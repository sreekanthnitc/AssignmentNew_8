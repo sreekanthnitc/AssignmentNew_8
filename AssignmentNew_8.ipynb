{
 "cells": [
  {
   "cell_type": "markdown",
   "metadata": {},
   "source": [
    "# 1 How-to-count-distance-to-the-previous-zero For each value, count the difference back to the previous zero (or the start of the Series, whichever is closer) create a new column 'Y' Consider a DataFrame df where there is an integer column 'X' "
   ]
  },
  {
   "cell_type": "code",
   "execution_count": 2,
   "metadata": {},
   "outputs": [
    {
     "data": {
      "text/html": [
       "<div>\n",
       "<style scoped>\n",
       "    .dataframe tbody tr th:only-of-type {\n",
       "        vertical-align: middle;\n",
       "    }\n",
       "\n",
       "    .dataframe tbody tr th {\n",
       "        vertical-align: top;\n",
       "    }\n",
       "\n",
       "    .dataframe thead th {\n",
       "        text-align: right;\n",
       "    }\n",
       "</style>\n",
       "<table border=\"1\" class=\"dataframe\">\n",
       "  <thead>\n",
       "    <tr style=\"text-align: right;\">\n",
       "      <th></th>\n",
       "      <th>X</th>\n",
       "      <th>Y</th>\n",
       "    </tr>\n",
       "  </thead>\n",
       "  <tbody>\n",
       "    <tr>\n",
       "      <th>0</th>\n",
       "      <td>7</td>\n",
       "      <td>1</td>\n",
       "    </tr>\n",
       "    <tr>\n",
       "      <th>1</th>\n",
       "      <td>2</td>\n",
       "      <td>2</td>\n",
       "    </tr>\n",
       "    <tr>\n",
       "      <th>2</th>\n",
       "      <td>0</td>\n",
       "      <td>0</td>\n",
       "    </tr>\n",
       "    <tr>\n",
       "      <th>3</th>\n",
       "      <td>3</td>\n",
       "      <td>1</td>\n",
       "    </tr>\n",
       "    <tr>\n",
       "      <th>4</th>\n",
       "      <td>4</td>\n",
       "      <td>2</td>\n",
       "    </tr>\n",
       "    <tr>\n",
       "      <th>5</th>\n",
       "      <td>2</td>\n",
       "      <td>3</td>\n",
       "    </tr>\n",
       "    <tr>\n",
       "      <th>6</th>\n",
       "      <td>5</td>\n",
       "      <td>4</td>\n",
       "    </tr>\n",
       "    <tr>\n",
       "      <th>7</th>\n",
       "      <td>0</td>\n",
       "      <td>0</td>\n",
       "    </tr>\n",
       "    <tr>\n",
       "      <th>8</th>\n",
       "      <td>3</td>\n",
       "      <td>1</td>\n",
       "    </tr>\n",
       "    <tr>\n",
       "      <th>9</th>\n",
       "      <td>4</td>\n",
       "      <td>2</td>\n",
       "    </tr>\n",
       "  </tbody>\n",
       "</table>\n",
       "</div>"
      ],
      "text/plain": [
       "   X  Y\n",
       "0  7  1\n",
       "1  2  2\n",
       "2  0  0\n",
       "3  3  1\n",
       "4  4  2\n",
       "5  2  3\n",
       "6  5  4\n",
       "7  0  0\n",
       "8  3  1\n",
       "9  4  2"
      ]
     },
     "execution_count": 2,
     "metadata": {},
     "output_type": "execute_result"
    }
   ],
   "source": [
    "#Import the Packages\n",
    "import pandas as pd\n",
    "import numpy as np\n",
    "\n",
    "#Create a Data frame with the given input.\n",
    "df = pd.DataFrame({'X': [7, 2, 0, 3, 4, 2, 5, 0, 3, 4]}) \n",
    "\n",
    "# Get the Indices where the Zero is present in the array.    \n",
    "zeroIndices = np.r_[-1, (df['X'] == 0).nonzero()[0]]  \n",
    "\n",
    "# Create a numpy array with the posiitions of the elements \n",
    "idx = np.arange(len(df))\n",
    "\n",
    "# Find the indices into a sorted array a such that, if the corresponding elements in v were inserted before the indices,\n",
    "# the order of a would be preserved.\n",
    "df['Y'] = idx - zeroIndices[np.searchsorted(zeroIndices - 1, idx) - 1]\n",
    "df"
   ]
  },
  {
   "cell_type": "markdown",
   "metadata": {},
   "source": [
    "# 2 Create a DatetimeIndex that contains each business day of 2015 and use it to index a Series of random numbers. "
   ]
  },
  {
   "cell_type": "code",
   "execution_count": 4,
   "metadata": {
    "scrolled": true
   },
   "outputs": [
    {
     "name": "stdout",
     "output_type": "stream",
     "text": [
      "2015-01-01    0.365203\n",
      "2015-01-02    0.559905\n",
      "2015-01-05    0.574506\n",
      "2015-01-06    0.049900\n",
      "2015-01-07    0.718557\n",
      "2015-01-08    0.982028\n",
      "2015-01-09    0.761938\n",
      "2015-01-12    0.612777\n",
      "2015-01-13    0.316099\n",
      "2015-01-14    0.486651\n",
      "2015-01-15    0.883262\n",
      "2015-01-16    0.718176\n",
      "2015-01-19    0.595434\n",
      "2015-01-20    0.840022\n",
      "2015-01-21    0.176687\n",
      "2015-01-22    0.917900\n",
      "2015-01-23    0.536236\n",
      "2015-01-26    0.755045\n",
      "2015-01-27    0.303119\n",
      "2015-01-28    0.152015\n",
      "2015-01-29    0.078310\n",
      "2015-01-30    0.421178\n",
      "2015-02-02    0.601883\n",
      "2015-02-03    0.607353\n",
      "2015-02-04    0.583188\n",
      "2015-02-05    0.387329\n",
      "2015-02-06    0.860125\n",
      "2015-02-09    0.409198\n",
      "2015-02-10    0.850391\n",
      "2015-02-11    0.914566\n",
      "                ...   \n",
      "2015-11-20    0.062823\n",
      "2015-11-23    0.704085\n",
      "2015-11-24    0.478163\n",
      "2015-11-25    0.818701\n",
      "2015-11-26    0.312053\n",
      "2015-11-27    0.088808\n",
      "2015-11-30    0.543560\n",
      "2015-12-01    0.822780\n",
      "2015-12-02    0.001446\n",
      "2015-12-03    0.215467\n",
      "2015-12-04    0.085623\n",
      "2015-12-07    0.097757\n",
      "2015-12-08    0.362428\n",
      "2015-12-09    0.195553\n",
      "2015-12-10    0.974432\n",
      "2015-12-11    0.870651\n",
      "2015-12-14    0.172564\n",
      "2015-12-15    0.668117\n",
      "2015-12-16    0.537227\n",
      "2015-12-17    0.804708\n",
      "2015-12-18    0.564229\n",
      "2015-12-21    0.130800\n",
      "2015-12-22    0.838921\n",
      "2015-12-23    0.964605\n",
      "2015-12-24    0.183870\n",
      "2015-12-25    0.713920\n",
      "2015-12-28    0.634847\n",
      "2015-12-29    0.972074\n",
      "2015-12-30    0.649989\n",
      "2015-12-31    0.055652\n",
      "Freq: B, Length: 261, dtype: float64\n"
     ]
    }
   ],
   "source": [
    "#Import the Packages\n",
    "import pandas as pd\n",
    "\n",
    "dti = pd.date_range(start='2015-01-01', end='2015-12-31', freq='B') \n",
    "s = pd.Series(np.random.rand(len(dti)), index = dti)\n",
    "print(s)"
   ]
  },
  {
   "cell_type": "markdown",
   "metadata": {},
   "source": [
    "# 3. Find the sum of the values in s for every Wednesday.\n"
   ]
  },
  {
   "cell_type": "code",
   "execution_count": 5,
   "metadata": {},
   "outputs": [
    {
     "name": "stdout",
     "output_type": "stream",
     "text": [
      "22.94827765534374\n"
     ]
    }
   ],
   "source": [
    "print(s[s.index.weekday == 2].sum())"
   ]
  },
  {
   "cell_type": "markdown",
   "metadata": {},
   "source": [
    "# 4. Average For each calendar month "
   ]
  },
  {
   "cell_type": "code",
   "execution_count": 6,
   "metadata": {},
   "outputs": [
    {
     "name": "stdout",
     "output_type": "stream",
     "text": [
      "2015-01-31    0.536589\n",
      "2015-02-28    0.604015\n",
      "2015-03-31    0.480730\n",
      "2015-04-30    0.500721\n",
      "2015-05-31    0.475343\n",
      "2015-06-30    0.452114\n",
      "2015-07-31    0.507564\n",
      "2015-08-31    0.554628\n",
      "2015-09-30    0.420181\n",
      "2015-10-31    0.541267\n",
      "2015-11-30    0.502809\n",
      "2015-12-31    0.500768\n",
      "Freq: M, dtype: float64\n"
     ]
    }
   ],
   "source": [
    "print(s.resample('M').mean())"
   ]
  },
  {
   "cell_type": "markdown",
   "metadata": {},
   "source": [
    "# 5. For each group of four consecutive calendar months in s, find the date on which the highest value occurred. "
   ]
  },
  {
   "cell_type": "code",
   "execution_count": 7,
   "metadata": {},
   "outputs": [
    {
     "name": "stdout",
     "output_type": "stream",
     "text": [
      "2015-01-31    0.982028\n",
      "2015-05-31    0.999994\n",
      "2015-09-30    0.986463\n",
      "2016-01-31    0.995124\n",
      "dtype: float64\n",
      "2015-04-30    0.999994\n",
      "2015-08-31    0.986463\n",
      "2015-12-31    0.995124\n",
      "2016-04-30    0.055652\n",
      "Freq: 4M, dtype: float64\n"
     ]
    }
   ],
   "source": [
    "print(s.groupby(pd.Grouper(freq='4M')).max())\n",
    "print(s.groupby(pd.Grouper(freq='4M', closed='left')).max())"
   ]
  },
  {
   "cell_type": "code",
   "execution_count": null,
   "metadata": {},
   "outputs": [],
   "source": []
  }
 ],
 "metadata": {
  "kernelspec": {
   "display_name": "Python 3",
   "language": "python",
   "name": "python3"
  },
  "language_info": {
   "codemirror_mode": {
    "name": "ipython",
    "version": 3
   },
   "file_extension": ".py",
   "mimetype": "text/x-python",
   "name": "python",
   "nbconvert_exporter": "python",
   "pygments_lexer": "ipython3",
   "version": "3.6.5"
  }
 },
 "nbformat": 4,
 "nbformat_minor": 2
}
